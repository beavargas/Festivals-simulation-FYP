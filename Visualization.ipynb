{
 "cells": [
  {
   "cell_type": "code",
   "execution_count": 61,
   "metadata": {},
   "outputs": [],
   "source": [
    "import seaborn as sns\n",
    "import json\n",
    "import pandas as pd\n",
    "import matplotlib as plt"
   ]
  },
  {
   "cell_type": "code",
   "execution_count": 62,
   "metadata": {},
   "outputs": [],
   "source": [
    "# function to load the simulation data from the json file\n",
    "def load_config(file_path):\n",
    "    with open(file_path, 'r') as file:\n",
    "        return json.load(file)"
   ]
  },
  {
   "cell_type": "code",
   "execution_count": 63,
   "metadata": {},
   "outputs": [
    {
     "data": {
      "text/html": [
       "<div>\n",
       "<style scoped>\n",
       "    .dataframe tbody tr th:only-of-type {\n",
       "        vertical-align: middle;\n",
       "    }\n",
       "\n",
       "    .dataframe tbody tr th {\n",
       "        vertical-align: top;\n",
       "    }\n",
       "\n",
       "    .dataframe thead th {\n",
       "        text-align: right;\n",
       "    }\n",
       "</style>\n",
       "<table border=\"1\" class=\"dataframe\">\n",
       "  <thead>\n",
       "    <tr style=\"text-align: right;\">\n",
       "      <th></th>\n",
       "      <th>0</th>\n",
       "      <th>1</th>\n",
       "      <th>2</th>\n",
       "      <th>3</th>\n",
       "      <th>4</th>\n",
       "      <th>5</th>\n",
       "      <th>6</th>\n",
       "      <th>7</th>\n",
       "      <th>8</th>\n",
       "      <th>9</th>\n",
       "      <th>...</th>\n",
       "      <th>90</th>\n",
       "      <th>91</th>\n",
       "      <th>92</th>\n",
       "      <th>93</th>\n",
       "      <th>94</th>\n",
       "      <th>95</th>\n",
       "      <th>96</th>\n",
       "      <th>97</th>\n",
       "      <th>98</th>\n",
       "      <th>99</th>\n",
       "    </tr>\n",
       "  </thead>\n",
       "  <tbody>\n",
       "    <tr>\n",
       "      <th>0</th>\n",
       "      <td>0.000000</td>\n",
       "      <td>0.000000</td>\n",
       "      <td>0.942565</td>\n",
       "      <td>1.099561</td>\n",
       "      <td>0.776255</td>\n",
       "      <td>1.468341</td>\n",
       "      <td>1.026723</td>\n",
       "      <td>2.477768</td>\n",
       "      <td>3.874462</td>\n",
       "      <td>3.623412</td>\n",
       "      <td>...</td>\n",
       "      <td>36.314901</td>\n",
       "      <td>37.091812</td>\n",
       "      <td>37.240541</td>\n",
       "      <td>36.804085</td>\n",
       "      <td>37.027419</td>\n",
       "      <td>37.284246</td>\n",
       "      <td>36.920892</td>\n",
       "      <td>36.848936</td>\n",
       "      <td>37.004160</td>\n",
       "      <td>37.044096</td>\n",
       "    </tr>\n",
       "    <tr>\n",
       "      <th>1</th>\n",
       "      <td>0.231279</td>\n",
       "      <td>0.247748</td>\n",
       "      <td>1.761964</td>\n",
       "      <td>0.882452</td>\n",
       "      <td>0.550878</td>\n",
       "      <td>0.339781</td>\n",
       "      <td>0.197005</td>\n",
       "      <td>2.062434</td>\n",
       "      <td>0.748910</td>\n",
       "      <td>1.086085</td>\n",
       "      <td>...</td>\n",
       "      <td>2.723550</td>\n",
       "      <td>3.888188</td>\n",
       "      <td>3.481433</td>\n",
       "      <td>3.757479</td>\n",
       "      <td>4.645731</td>\n",
       "      <td>4.727016</td>\n",
       "      <td>4.624125</td>\n",
       "      <td>4.801294</td>\n",
       "      <td>4.302244</td>\n",
       "      <td>5.388959</td>\n",
       "    </tr>\n",
       "    <tr>\n",
       "      <th>2</th>\n",
       "      <td>0.890669</td>\n",
       "      <td>1.700114</td>\n",
       "      <td>1.123091</td>\n",
       "      <td>0.690703</td>\n",
       "      <td>2.055416</td>\n",
       "      <td>0.047436</td>\n",
       "      <td>0.946174</td>\n",
       "      <td>1.398164</td>\n",
       "      <td>0.279547</td>\n",
       "      <td>1.742301</td>\n",
       "      <td>...</td>\n",
       "      <td>1.349884</td>\n",
       "      <td>0.293720</td>\n",
       "      <td>0.000000</td>\n",
       "      <td>1.556806</td>\n",
       "      <td>0.206626</td>\n",
       "      <td>0.682614</td>\n",
       "      <td>1.011781</td>\n",
       "      <td>1.073539</td>\n",
       "      <td>0.710355</td>\n",
       "      <td>1.757064</td>\n",
       "    </tr>\n",
       "    <tr>\n",
       "      <th>3</th>\n",
       "      <td>0.000000</td>\n",
       "      <td>0.275579</td>\n",
       "      <td>0.706375</td>\n",
       "      <td>0.763191</td>\n",
       "      <td>1.417202</td>\n",
       "      <td>0.969066</td>\n",
       "      <td>0.887125</td>\n",
       "      <td>1.180853</td>\n",
       "      <td>0.990430</td>\n",
       "      <td>0.000000</td>\n",
       "      <td>...</td>\n",
       "      <td>0.288097</td>\n",
       "      <td>0.000000</td>\n",
       "      <td>0.538001</td>\n",
       "      <td>2.515078</td>\n",
       "      <td>1.323959</td>\n",
       "      <td>1.568999</td>\n",
       "      <td>0.000000</td>\n",
       "      <td>0.745801</td>\n",
       "      <td>1.385541</td>\n",
       "      <td>1.436398</td>\n",
       "    </tr>\n",
       "    <tr>\n",
       "      <th>4</th>\n",
       "      <td>1.519014</td>\n",
       "      <td>0.187228</td>\n",
       "      <td>2.120195</td>\n",
       "      <td>0.289674</td>\n",
       "      <td>0.000000</td>\n",
       "      <td>1.062553</td>\n",
       "      <td>2.016329</td>\n",
       "      <td>1.172263</td>\n",
       "      <td>0.298792</td>\n",
       "      <td>1.020088</td>\n",
       "      <td>...</td>\n",
       "      <td>0.276798</td>\n",
       "      <td>2.233647</td>\n",
       "      <td>1.550629</td>\n",
       "      <td>0.892118</td>\n",
       "      <td>2.066121</td>\n",
       "      <td>0.126401</td>\n",
       "      <td>1.340211</td>\n",
       "      <td>1.463905</td>\n",
       "      <td>1.217500</td>\n",
       "      <td>1.321557</td>\n",
       "    </tr>\n",
       "  </tbody>\n",
       "</table>\n",
       "<p>5 rows × 100 columns</p>\n",
       "</div>"
      ],
      "text/plain": [
       "         0         1         2         3         4         5         6   \\\n",
       "0  0.000000  0.000000  0.942565  1.099561  0.776255  1.468341  1.026723   \n",
       "1  0.231279  0.247748  1.761964  0.882452  0.550878  0.339781  0.197005   \n",
       "2  0.890669  1.700114  1.123091  0.690703  2.055416  0.047436  0.946174   \n",
       "3  0.000000  0.275579  0.706375  0.763191  1.417202  0.969066  0.887125   \n",
       "4  1.519014  0.187228  2.120195  0.289674  0.000000  1.062553  2.016329   \n",
       "\n",
       "         7         8         9   ...         90         91         92  \\\n",
       "0  2.477768  3.874462  3.623412  ...  36.314901  37.091812  37.240541   \n",
       "1  2.062434  0.748910  1.086085  ...   2.723550   3.888188   3.481433   \n",
       "2  1.398164  0.279547  1.742301  ...   1.349884   0.293720   0.000000   \n",
       "3  1.180853  0.990430  0.000000  ...   0.288097   0.000000   0.538001   \n",
       "4  1.172263  0.298792  1.020088  ...   0.276798   2.233647   1.550629   \n",
       "\n",
       "          93         94         95         96         97         98         99  \n",
       "0  36.804085  37.027419  37.284246  36.920892  36.848936  37.004160  37.044096  \n",
       "1   3.757479   4.645731   4.727016   4.624125   4.801294   4.302244   5.388959  \n",
       "2   1.556806   0.206626   0.682614   1.011781   1.073539   0.710355   1.757064  \n",
       "3   2.515078   1.323959   1.568999   0.000000   0.745801   1.385541   1.436398  \n",
       "4   0.892118   2.066121   0.126401   1.340211   1.463905   1.217500   1.321557  \n",
       "\n",
       "[5 rows x 100 columns]"
      ]
     },
     "execution_count": 63,
     "metadata": {},
     "output_type": "execute_result"
    }
   ],
   "source": [
    "config = load_config('simulation_data.json')\n",
    "\n",
    "# Convert the json file data into a pandas DataFrame\n",
    "df = pd.DataFrame(config)\n",
    "df.head()\n",
    "\n"
   ]
  },
  {
   "cell_type": "code",
   "execution_count": 64,
   "metadata": {},
   "outputs": [
    {
     "data": {
      "text/plain": [
       "<Axes: xlabel='None', ylabel='Waiting Time'>"
      ]
     },
     "execution_count": 64,
     "metadata": {},
     "output_type": "execute_result"
    },
    {
     "data": {
      "image/png": "[encoded data removed]",
      "text/plain": [
       "<Figure size 432x288 with 1 Axes>"
      ]
     },
     "metadata": {
      "needs_background": "light"
     },
     "output_type": "display_data"
    }
   ],
   "source": [
    "# The following plot shows the waiting times for all the festival goers for each number of servers in the system\n",
    "\n",
    "df_melted = pd.melt(df, value_name=\"Waiting Time\", ignore_index=False)\n",
    "sns.scatterplot(data=df_melted, x=df_melted.index, y=\"Waiting Time\")\n"
   ]
  },
  {
   "cell_type": "code",
   "execution_count": 67,
   "metadata": {},
   "outputs": [
    {
     "data": {
      "text/plain": [
       "<Axes: xlabel='None'>"
      ]
     },
     "execution_count": 67,
     "metadata": {},
     "output_type": "execute_result"
    },
    {
     "data": {
      "image/png": "[encoded data removed]",
      "text/plain": [
       "<Figure size 432x288 with 1 Axes>"
      ]
     },
     "metadata": {
      "needs_background": "light"
     },
     "output_type": "display_data"
    }
   ],
   "source": [
    "# PLotting the scatter graph for x amount of servers. \n",
    "# We extract a row from the dataframe and plot the waiting time on the y axis and the festival goer on the x axis\n",
    "selected_row = df.iloc[5]\n",
    "#sns.scatterplot(x=selected_row.index, y=selected_row.values)\n",
    "sns.barplot(x=selected_row.index, y= selected_row.values )\n"
   ]
  }
 ],
 "metadata": {
  "kernelspec": {
   "display_name": "base",
   "language": "python",
   "name": "python3"
  },
  "language_info": {
   "codemirror_mode": {
    "name": "ipython",
    "version": 3
   },
   "file_extension": ".py",
   "mimetype": "text/x-python",
   "name": "python",
   "nbconvert_exporter": "python",
   "pygments_lexer": "ipython3",
   "version": "3.8.3"
  }
 },
 "nbformat": 4,
 "nbformat_minor": 2
}

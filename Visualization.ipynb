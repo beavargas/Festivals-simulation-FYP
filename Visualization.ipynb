{
 "cells": [
  {
   "cell_type": "code",
   "execution_count": 27,
   "metadata": {},
   "outputs": [],
   "source": [
    "import seaborn as sns\n",
    "import json\n",
    "import pandas as pd\n",
    "import matplotlib.pyplot as plt\n",
    "import numpy as np\n",
    "\n",
    "sns.set_theme(style=\"darkgrid\")"
   ]
  },
  {
   "cell_type": "code",
   "execution_count": 172,
   "metadata": {},
   "outputs": [
    {
     "name": "stdout",
     "output_type": "stream",
     "text": [
      "Number of rows: 20\n",
      "Number of columns: 100\n"
     ]
    },
    {
     "data": {
      "text/html": [
       "<div>\n",
       "<style scoped>\n",
       "    .dataframe tbody tr th:only-of-type {\n",
       "        vertical-align: middle;\n",
       "    }\n",
       "\n",
       "    .dataframe tbody tr th {\n",
       "        vertical-align: top;\n",
       "    }\n",
       "\n",
       "    .dataframe thead th {\n",
       "        text-align: right;\n",
       "    }\n",
       "</style>\n",
       "<table border=\"1\" class=\"dataframe\">\n",
       "  <thead>\n",
       "    <tr style=\"text-align: right;\">\n",
       "      <th></th>\n",
       "      <th>0</th>\n",
       "      <th>1</th>\n",
       "      <th>2</th>\n",
       "      <th>3</th>\n",
       "      <th>4</th>\n",
       "      <th>5</th>\n",
       "      <th>6</th>\n",
       "      <th>7</th>\n",
       "      <th>8</th>\n",
       "      <th>9</th>\n",
       "      <th>...</th>\n",
       "      <th>90</th>\n",
       "      <th>91</th>\n",
       "      <th>92</th>\n",
       "      <th>93</th>\n",
       "      <th>94</th>\n",
       "      <th>95</th>\n",
       "      <th>96</th>\n",
       "      <th>97</th>\n",
       "      <th>98</th>\n",
       "      <th>99</th>\n",
       "    </tr>\n",
       "  </thead>\n",
       "  <tbody>\n",
       "    <tr>\n",
       "      <th>0</th>\n",
       "      <td>0.600337</td>\n",
       "      <td>0.606324</td>\n",
       "      <td>0.610240</td>\n",
       "      <td>0.605361</td>\n",
       "      <td>0.624001</td>\n",
       "      <td>0.626253</td>\n",
       "      <td>0.602164</td>\n",
       "      <td>0.620080</td>\n",
       "      <td>0.568947</td>\n",
       "      <td>0.612985</td>\n",
       "      <td>...</td>\n",
       "      <td>0.619409</td>\n",
       "      <td>0.615331</td>\n",
       "      <td>0.593238</td>\n",
       "      <td>0.610224</td>\n",
       "      <td>0.602298</td>\n",
       "      <td>0.600868</td>\n",
       "      <td>0.583886</td>\n",
       "      <td>0.599735</td>\n",
       "      <td>0.620298</td>\n",
       "      <td>0.599648</td>\n",
       "    </tr>\n",
       "    <tr>\n",
       "      <th>1</th>\n",
       "      <td>0.522255</td>\n",
       "      <td>0.512668</td>\n",
       "      <td>0.536450</td>\n",
       "      <td>0.517701</td>\n",
       "      <td>0.496518</td>\n",
       "      <td>0.534260</td>\n",
       "      <td>0.525142</td>\n",
       "      <td>0.533420</td>\n",
       "      <td>0.515040</td>\n",
       "      <td>0.511596</td>\n",
       "      <td>...</td>\n",
       "      <td>0.527536</td>\n",
       "      <td>0.518727</td>\n",
       "      <td>0.493742</td>\n",
       "      <td>0.529732</td>\n",
       "      <td>0.526767</td>\n",
       "      <td>0.525441</td>\n",
       "      <td>0.517870</td>\n",
       "      <td>0.527020</td>\n",
       "      <td>0.512186</td>\n",
       "      <td>0.516578</td>\n",
       "    </tr>\n",
       "    <tr>\n",
       "      <th>2</th>\n",
       "      <td>0.501864</td>\n",
       "      <td>0.505288</td>\n",
       "      <td>0.501767</td>\n",
       "      <td>0.503073</td>\n",
       "      <td>0.467616</td>\n",
       "      <td>0.506051</td>\n",
       "      <td>0.492539</td>\n",
       "      <td>0.510926</td>\n",
       "      <td>0.491773</td>\n",
       "      <td>0.496264</td>\n",
       "      <td>...</td>\n",
       "      <td>0.488189</td>\n",
       "      <td>0.493415</td>\n",
       "      <td>0.472643</td>\n",
       "      <td>0.506365</td>\n",
       "      <td>0.498098</td>\n",
       "      <td>0.504527</td>\n",
       "      <td>0.503705</td>\n",
       "      <td>0.505207</td>\n",
       "      <td>0.501195</td>\n",
       "      <td>0.506821</td>\n",
       "    </tr>\n",
       "    <tr>\n",
       "      <th>3</th>\n",
       "      <td>0.464987</td>\n",
       "      <td>0.494595</td>\n",
       "      <td>0.492174</td>\n",
       "      <td>0.497004</td>\n",
       "      <td>0.460120</td>\n",
       "      <td>0.496417</td>\n",
       "      <td>0.486904</td>\n",
       "      <td>0.503203</td>\n",
       "      <td>0.484232</td>\n",
       "      <td>0.493990</td>\n",
       "      <td>...</td>\n",
       "      <td>0.481913</td>\n",
       "      <td>0.486765</td>\n",
       "      <td>0.465250</td>\n",
       "      <td>0.500636</td>\n",
       "      <td>0.498129</td>\n",
       "      <td>0.499946</td>\n",
       "      <td>0.487030</td>\n",
       "      <td>0.497821</td>\n",
       "      <td>0.487932</td>\n",
       "      <td>0.499317</td>\n",
       "    </tr>\n",
       "    <tr>\n",
       "      <th>4</th>\n",
       "      <td>0.461915</td>\n",
       "      <td>0.491966</td>\n",
       "      <td>0.488139</td>\n",
       "      <td>0.494410</td>\n",
       "      <td>0.473392</td>\n",
       "      <td>0.492885</td>\n",
       "      <td>0.484470</td>\n",
       "      <td>0.499154</td>\n",
       "      <td>0.490354</td>\n",
       "      <td>0.493348</td>\n",
       "      <td>...</td>\n",
       "      <td>0.479742</td>\n",
       "      <td>0.483869</td>\n",
       "      <td>0.461060</td>\n",
       "      <td>0.498742</td>\n",
       "      <td>0.497400</td>\n",
       "      <td>0.497113</td>\n",
       "      <td>0.482398</td>\n",
       "      <td>0.493081</td>\n",
       "      <td>0.484497</td>\n",
       "      <td>0.496386</td>\n",
       "    </tr>\n",
       "  </tbody>\n",
       "</table>\n",
       "<p>5 rows × 100 columns</p>\n",
       "</div>"
      ],
      "text/plain": [
       "         0         1         2         3         4         5         6   \\\n",
       "0  0.600337  0.606324  0.610240  0.605361  0.624001  0.626253  0.602164   \n",
       "1  0.522255  0.512668  0.536450  0.517701  0.496518  0.534260  0.525142   \n",
       "2  0.501864  0.505288  0.501767  0.503073  0.467616  0.506051  0.492539   \n",
       "3  0.464987  0.494595  0.492174  0.497004  0.460120  0.496417  0.486904   \n",
       "4  0.461915  0.491966  0.488139  0.494410  0.473392  0.492885  0.484470   \n",
       "\n",
       "         7         8         9   ...        90        91        92        93  \\\n",
       "0  0.620080  0.568947  0.612985  ...  0.619409  0.615331  0.593238  0.610224   \n",
       "1  0.533420  0.515040  0.511596  ...  0.527536  0.518727  0.493742  0.529732   \n",
       "2  0.510926  0.491773  0.496264  ...  0.488189  0.493415  0.472643  0.506365   \n",
       "3  0.503203  0.484232  0.493990  ...  0.481913  0.486765  0.465250  0.500636   \n",
       "4  0.499154  0.490354  0.493348  ...  0.479742  0.483869  0.461060  0.498742   \n",
       "\n",
       "         94        95        96        97        98        99  \n",
       "0  0.602298  0.600868  0.583886  0.599735  0.620298  0.599648  \n",
       "1  0.526767  0.525441  0.517870  0.527020  0.512186  0.516578  \n",
       "2  0.498098  0.504527  0.503705  0.505207  0.501195  0.506821  \n",
       "3  0.498129  0.499946  0.487030  0.497821  0.487932  0.499317  \n",
       "4  0.497400  0.497113  0.482398  0.493081  0.484497  0.496386  \n",
       "\n",
       "[5 rows x 100 columns]"
      ]
     },
     "execution_count": 172,
     "metadata": {},
     "output_type": "execute_result"
    }
   ],
   "source": [
    "# THIS LOADS THE RIGHT DATA IN THE RIGHT SHAPE\n",
    "simulation_mean_df = pd.read_json('RESULTS_MMA_5000.json')\n",
    "simulation_mean_df = simulation_mean_df.iloc[0:]\n",
    "num_rows, num_cols = simulation_mean_df.shape\n",
    "\n",
    "print(\"Number of rows:\", num_rows)\n",
    "print(\"Number of columns:\", num_cols)\n",
    "\n",
    "simulation_mean_df.head()\n",
    "\n"
   ]
  },
  {
   "cell_type": "code",
   "execution_count": 173,
   "metadata": {},
   "outputs": [
    {
     "name": "stdout",
     "output_type": "stream",
     "text": [
      "    variable  Average Waiting Time\n",
      "0          0              0.600337\n",
      "1          0              0.522255\n",
      "2          0              0.501864\n",
      "3          0              0.464987\n",
      "4          0              0.461915\n",
      "..       ...                   ...\n",
      "15        99              0.466316\n",
      "16        99              0.466316\n",
      "17        99              0.497745\n",
      "18        99              0.497745\n",
      "19        99              0.497745\n",
      "\n",
      "[2000 rows x 2 columns]\n",
      "Index([ 0,  1,  2,  3,  4,  5,  6,  7,  8,  9,\n",
      "       ...\n",
      "       10, 11, 12, 13, 14, 15, 16, 17, 18, 19],\n",
      "      dtype='int64', length=2000)\n"
     ]
    }
   ],
   "source": [
    "# The following plot shows the waiting times for all the festival goers for each number of servers in the system\n",
    "\n",
    "df_melted = pd.melt(simulation_mean_df, value_name=\"Average Waiting Time\", ignore_index=False)\n",
    "# sns.scatterplot(data=df_melted, x=df_melted.index, y=\"Waiting Time\")\n",
    " # this switches the x-axis labels to strat from 1 instead of 0\n",
    "\n",
    "print(df_melted)\n",
    "\n",
    "print(df_melted.index)\n",
    "\n"
   ]
  },
  {
   "cell_type": "code",
   "execution_count": 174,
   "metadata": {},
   "outputs": [],
   "source": [
    "df_melted.index = df_melted.index + 1\n",
    "# to switch the start on the axis to 1 instead of zero, only run ONCE"
   ]
  },
  {
   "cell_type": "code",
   "execution_count": 175,
   "metadata": {},
   "outputs": [
    {
     "data": {
      "image/png": "[encoded data removed]",
      "text/plain": [
       "<Figure size 720x432 with 1 Axes>"
      ]
     },
     "metadata": {},
     "output_type": "display_data"
    },
    {
     "name": "stdout",
     "output_type": "stream",
     "text": [
      "0.6059235287920001\n",
      "0.516678059126\n",
      "0.49594544584699995\n",
      "0.487380230945\n",
      "0.4849143419790001\n",
      "0.48372511043099997\n",
      "0.482628210317\n",
      "0.482231556121\n",
      "0.4821348619579999\n",
      "0.4830737211800001\n",
      "0.483918563207\n",
      "0.484852355149\n",
      "0.4842588723399999\n",
      "0.484470450253\n",
      "0.483594637307\n",
      "0.48259456624999997\n",
      "0.48207587284799996\n",
      "0.48229650031700005\n",
      "0.48219916349\n",
      "0.4822673782860001\n"
     ]
    }
   ],
   "source": [
    "plt.figure(figsize=(10, 6))\n",
    "ax = sns.boxplot(data=df_melted, x=df_melted.index, y=\"Average Waiting Time\", color=\"#c94c4c\",  flierprops=dict( marker='o', markersize=4, markerfacecolor=\"#eea29a\"))\n",
    "\n",
    "ax.set_ylim(0.30, 0.85)\n",
    "\n",
    "plt.xlabel(\"Number of servers\", fontsize=13)  \n",
    "plt.ylabel(\"Waiting time\", fontsize=13)  \n",
    "\n",
    "plt.show()\n",
    "\n",
    "for row in simulation_mean_df.index:\n",
    "    print(np.mean(simulation_mean_df.iloc[row]))\n",
    "\n",
    "#plt.savefig(\"SSDA_200_boxplot_full.png\", format=\"png\")\n"
   ]
  },
  {
   "cell_type": "code",
   "execution_count": 126,
   "metadata": {},
   "outputs": [
    {
     "data": {
      "text/plain": [
       "<Figure size 720x432 with 0 Axes>"
      ]
     },
     "metadata": {},
     "output_type": "display_data"
    },
    {
     "data": {
      "image/png": "[encoded data removed]",
      "text/plain": [
       "<Figure size 360x360 with 1 Axes>"
      ]
     },
     "metadata": {},
     "output_type": "display_data"
    }
   ],
   "source": [
    "# plt.figure(figsize=(10, 6))\n",
    "# g = sns.relplot(x=df_melted.index, y=\"Average Waiting Time\", \n",
    "#              data=df_melted, kind=\"line\", errorbar=\"sd\", color=\"#c94c4c\", linewidth=0.8) #color=\"#034f84\") HOW MANY STANDARD DEVIATIONS -> ONE FROM THE MEAN\n",
    "\n",
    "# ax = g.axes[0,0]\n",
    "# ax.set_ylim(0.43, 0.7)\n",
    "# ax.set_yticks([0.45, 0.5, 0.55, 0.6, 0.65, 0.7])\n",
    "\n",
    "# plt.xlabel(\"Number of servers\", fontsize=13)\n",
    "# plt.ylabel(\"Waiting time\", fontsize=13)\n",
    "# plt.xticks(np.arange(1, 21, 1))\n",
    "# plt.show()"
   ]
  },
  {
   "cell_type": "code",
   "execution_count": 176,
   "metadata": {},
   "outputs": [
    {
     "data": {
      "image/png": "[encoded data removed]",
      "text/plain": [
       "<Figure size 720x432 with 1 Axes>"
      ]
     },
     "metadata": {},
     "output_type": "display_data"
    }
   ],
   "source": [
    "plt.figure(figsize=(10, 6))\n",
    "h = sns.lineplot(x=df_melted.index, y='Average Waiting Time', data=df_melted, marker='o', errorbar=\"sd\", linewidth=0.3, color=\"#c94c4c\")\n",
    "#plt.title(\"Waiting Time per Server for Different Number of Servers\")\n",
    "\n",
    "ax = h.axes\n",
    "ax.set_ylim(0.40, 0.7)\n",
    "ax.set_yticks([0.45, 0.5, 0.55, 0.6, 0.65, 0.7])\n",
    "\n",
    "\n",
    "plt.xlabel(\"Number of Servers\", fontsize=13)\n",
    "plt.ylabel(\"Waiting Time\", fontsize=13)\n",
    "plt.xticks(np.arange(1, 21, 1))\n",
    "plt.show()"
   ]
  }
 ],
 "metadata": {
  "kernelspec": {
   "display_name": "base",
   "language": "python",
   "name": "python3"
  },
  "language_info": {
   "codemirror_mode": {
    "name": "ipython",
    "version": 3
   },
   "file_extension": ".py",
   "mimetype": "text/x-python",
   "name": "python",
   "nbconvert_exporter": "python",
   "pygments_lexer": "ipython3",
   "version": "3.8.3"
  }
 },
 "nbformat": 4,
 "nbformat_minor": 2
}

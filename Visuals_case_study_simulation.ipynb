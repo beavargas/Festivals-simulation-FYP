{
 "cells": [
  {
   "cell_type": "code",
   "execution_count": 20,
   "metadata": {},
   "outputs": [],
   "source": [
    "import seaborn as sns\n",
    "import json\n",
    "import pandas as pd\n",
    "import matplotlib.pyplot as plt\n",
    "import numpy as np\n",
    "\n",
    "sns.set_theme(style=\"darkgrid\")"
   ]
  },
  {
   "cell_type": "code",
   "execution_count": 32,
   "metadata": {},
   "outputs": [
    {
     "name": "stdout",
     "output_type": "stream",
     "text": [
      "Number of rows: 4\n",
      "Number of columns: 100\n"
     ]
    },
    {
     "data": {
      "text/html": [
       "<div>\n",
       "<style scoped>\n",
       "    .dataframe tbody tr th:only-of-type {\n",
       "        vertical-align: middle;\n",
       "    }\n",
       "\n",
       "    .dataframe tbody tr th {\n",
       "        vertical-align: top;\n",
       "    }\n",
       "\n",
       "    .dataframe thead th {\n",
       "        text-align: right;\n",
       "    }\n",
       "</style>\n",
       "<table border=\"1\" class=\"dataframe\">\n",
       "  <thead>\n",
       "    <tr style=\"text-align: right;\">\n",
       "      <th></th>\n",
       "      <th>0</th>\n",
       "      <th>1</th>\n",
       "      <th>2</th>\n",
       "      <th>3</th>\n",
       "      <th>4</th>\n",
       "      <th>5</th>\n",
       "      <th>6</th>\n",
       "      <th>7</th>\n",
       "      <th>8</th>\n",
       "      <th>9</th>\n",
       "      <th>...</th>\n",
       "      <th>90</th>\n",
       "      <th>91</th>\n",
       "      <th>92</th>\n",
       "      <th>93</th>\n",
       "      <th>94</th>\n",
       "      <th>95</th>\n",
       "      <th>96</th>\n",
       "      <th>97</th>\n",
       "      <th>98</th>\n",
       "      <th>99</th>\n",
       "    </tr>\n",
       "  </thead>\n",
       "  <tbody>\n",
       "    <tr>\n",
       "      <th>2</th>\n",
       "      <td>6016.848105</td>\n",
       "      <td>5409.893903</td>\n",
       "      <td>5509.159568</td>\n",
       "      <td>5608.469661</td>\n",
       "      <td>5870.900682</td>\n",
       "      <td>5285.560897</td>\n",
       "      <td>5757.448129</td>\n",
       "      <td>5896.093825</td>\n",
       "      <td>5176.999482</td>\n",
       "      <td>4907.156328</td>\n",
       "      <td>...</td>\n",
       "      <td>5368.115337</td>\n",
       "      <td>5422.450101</td>\n",
       "      <td>6224.479463</td>\n",
       "      <td>5801.540224</td>\n",
       "      <td>5583.312460</td>\n",
       "      <td>5411.771419</td>\n",
       "      <td>5403.404685</td>\n",
       "      <td>5637.621833</td>\n",
       "      <td>5158.204601</td>\n",
       "      <td>5698.375607</td>\n",
       "    </tr>\n",
       "    <tr>\n",
       "      <th>3</th>\n",
       "      <td>2873.416717</td>\n",
       "      <td>2632.582733</td>\n",
       "      <td>2931.537173</td>\n",
       "      <td>2851.221458</td>\n",
       "      <td>2887.451474</td>\n",
       "      <td>2874.374285</td>\n",
       "      <td>2887.985163</td>\n",
       "      <td>2837.281068</td>\n",
       "      <td>2907.160499</td>\n",
       "      <td>2711.857548</td>\n",
       "      <td>...</td>\n",
       "      <td>2769.555640</td>\n",
       "      <td>2707.687926</td>\n",
       "      <td>2795.283016</td>\n",
       "      <td>2991.550521</td>\n",
       "      <td>2871.516571</td>\n",
       "      <td>2959.691546</td>\n",
       "      <td>3083.582319</td>\n",
       "      <td>2710.041246</td>\n",
       "      <td>2729.496540</td>\n",
       "      <td>2676.510696</td>\n",
       "    </tr>\n",
       "    <tr>\n",
       "      <th>4</th>\n",
       "      <td>2016.979397</td>\n",
       "      <td>1878.361432</td>\n",
       "      <td>1908.681194</td>\n",
       "      <td>1812.828149</td>\n",
       "      <td>1919.068422</td>\n",
       "      <td>1905.598374</td>\n",
       "      <td>2055.436128</td>\n",
       "      <td>1872.219976</td>\n",
       "      <td>2025.013980</td>\n",
       "      <td>1865.581241</td>\n",
       "      <td>...</td>\n",
       "      <td>2034.695570</td>\n",
       "      <td>1940.398618</td>\n",
       "      <td>1891.281148</td>\n",
       "      <td>2076.534412</td>\n",
       "      <td>1895.379272</td>\n",
       "      <td>1946.282724</td>\n",
       "      <td>1754.613140</td>\n",
       "      <td>1959.117632</td>\n",
       "      <td>2050.825105</td>\n",
       "      <td>1860.799210</td>\n",
       "    </tr>\n",
       "    <tr>\n",
       "      <th>5</th>\n",
       "      <td>1498.062818</td>\n",
       "      <td>1425.880368</td>\n",
       "      <td>1529.688872</td>\n",
       "      <td>1445.252059</td>\n",
       "      <td>1462.670620</td>\n",
       "      <td>1484.208272</td>\n",
       "      <td>1440.210403</td>\n",
       "      <td>1530.074706</td>\n",
       "      <td>1540.703813</td>\n",
       "      <td>1503.371658</td>\n",
       "      <td>...</td>\n",
       "      <td>1448.690266</td>\n",
       "      <td>1540.373588</td>\n",
       "      <td>1371.383735</td>\n",
       "      <td>1522.316354</td>\n",
       "      <td>1421.745188</td>\n",
       "      <td>1567.949019</td>\n",
       "      <td>1491.787863</td>\n",
       "      <td>1391.335790</td>\n",
       "      <td>1435.540426</td>\n",
       "      <td>1371.906903</td>\n",
       "    </tr>\n",
       "  </tbody>\n",
       "</table>\n",
       "<p>4 rows × 100 columns</p>\n",
       "</div>"
      ],
      "text/plain": [
       "            0            1            2            3            4   \\\n",
       "2  6016.848105  5409.893903  5509.159568  5608.469661  5870.900682   \n",
       "3  2873.416717  2632.582733  2931.537173  2851.221458  2887.451474   \n",
       "4  2016.979397  1878.361432  1908.681194  1812.828149  1919.068422   \n",
       "5  1498.062818  1425.880368  1529.688872  1445.252059  1462.670620   \n",
       "\n",
       "            5            6            7            8            9   ...  \\\n",
       "2  5285.560897  5757.448129  5896.093825  5176.999482  4907.156328  ...   \n",
       "3  2874.374285  2887.985163  2837.281068  2907.160499  2711.857548  ...   \n",
       "4  1905.598374  2055.436128  1872.219976  2025.013980  1865.581241  ...   \n",
       "5  1484.208272  1440.210403  1530.074706  1540.703813  1503.371658  ...   \n",
       "\n",
       "            90           91           92           93           94  \\\n",
       "2  5368.115337  5422.450101  6224.479463  5801.540224  5583.312460   \n",
       "3  2769.555640  2707.687926  2795.283016  2991.550521  2871.516571   \n",
       "4  2034.695570  1940.398618  1891.281148  2076.534412  1895.379272   \n",
       "5  1448.690266  1540.373588  1371.383735  1522.316354  1421.745188   \n",
       "\n",
       "            95           96           97           98           99  \n",
       "2  5411.771419  5403.404685  5637.621833  5158.204601  5698.375607  \n",
       "3  2959.691546  3083.582319  2710.041246  2729.496540  2676.510696  \n",
       "4  1946.282724  1754.613140  1959.117632  2050.825105  1860.799210  \n",
       "5  1567.949019  1491.787863  1391.335790  1435.540426  1371.906903  \n",
       "\n",
       "[4 rows x 100 columns]"
      ]
     },
     "execution_count": 32,
     "metadata": {},
     "output_type": "execute_result"
    }
   ],
   "source": [
    "simulation_mean_df = pd.read_json('RESULTS_case_study.json')\n",
    "simulation_mean_df = simulation_mean_df.iloc[2:]\n",
    "num_rows, num_cols = simulation_mean_df.shape\n",
    "\n",
    "print(\"Number of rows:\", num_rows)\n",
    "print(\"Number of columns:\", num_cols)\n",
    "\n",
    "simulation_mean_df.head()"
   ]
  },
  {
   "cell_type": "code",
   "execution_count": 33,
   "metadata": {},
   "outputs": [
    {
     "name": "stdout",
     "output_type": "stream",
     "text": [
      "    variable  Average Waiting Time\n",
      "2          0           6016.848105\n",
      "3          0           2873.416717\n",
      "4          0           2016.979397\n",
      "5          0           1498.062818\n",
      "2          1           5409.893903\n",
      "..       ...                   ...\n",
      "5         98           1435.540426\n",
      "2         99           5698.375607\n",
      "3         99           2676.510696\n",
      "4         99           1860.799210\n",
      "5         99           1371.906903\n",
      "\n",
      "[400 rows x 2 columns]\n",
      "Index([2, 3, 4, 5, 2, 3, 4, 5, 2, 3,\n",
      "       ...\n",
      "       4, 5, 2, 3, 4, 5, 2, 3, 4, 5],\n",
      "      dtype='int64', length=400)\n"
     ]
    }
   ],
   "source": [
    "df_melted = pd.melt(simulation_mean_df, value_name=\"Average Waiting Time\", ignore_index=False)\n",
    "# sns.scatterplot(data=df_melted, x=df_melted.index, y=\"Waiting Time\")\n",
    " # this switches the x-axis labels to strat from 1 instead of 0\n",
    "\n",
    "print(df_melted)\n",
    "\n",
    "print(df_melted.index)"
   ]
  },
  {
   "cell_type": "code",
   "execution_count": 17,
   "metadata": {},
   "outputs": [],
   "source": [
    "df_melted.index = df_melted.index + 1\n",
    "# to switch the start on the axis to 1 instead of zero, only run ONCE"
   ]
  },
  {
   "cell_type": "code",
   "execution_count": 34,
   "metadata": {},
   "outputs": [
    {
     "data": {
      "image/png": "[encoded data removed]",
      "text/plain": [
       "<Figure size 432x288 with 1 Axes>"
      ]
     },
     "metadata": {},
     "output_type": "display_data"
    }
   ],
   "source": [
    "ax = sns.boxplot(data=df_melted, x=df_melted.index, y=\"Average Waiting Time\", color=\"#c94c4c\",  flierprops=dict( marker='o', markersize=4, markerfacecolor=\"#eea29a\"))\n",
    "\n",
    "\n",
    "#xticks_interval = 4\n",
    "#labels = ax.get_xticks()[::xticks_interval] \n",
    "#ax.set_xticks(labels)\n",
    "\n",
    "#plt.title(\"Multi-server Normal Distribution Model: distribution of the waiting times for festival goers per number of servers\")\n",
    "#plt.title(\"Distribution of Waiting Times for Festival Goers Generated by the Normal Distribution Model\")\n",
    "plt.xlabel(\"Number of servers\")\n",
    "plt.ylabel(\"Waiting time\")\n",
    "\n",
    "plt.show()\n",
    "\n",
    "# for row in simulation_mean_df.index:\n",
    "#     print(np.mean(simulation_mean_df.iloc[row]))"
   ]
  },
  {
   "cell_type": "code",
   "execution_count": 35,
   "metadata": {},
   "outputs": [
    {
     "data": {
      "image/png": "[encoded data removed]",
      "text/plain": [
       "<Figure size 720x432 with 1 Axes>"
      ]
     },
     "metadata": {},
     "output_type": "display_data"
    }
   ],
   "source": [
    "plt.figure(figsize=(10, 6))\n",
    "sns.lineplot(x=df_melted.index, y='Average Waiting Time', data=df_melted, marker='o', errorbar=\"sd\", linewidth=0.3, color=\"#c94c4c\")\n",
    "#plt.title(\"Waiting Time per Server for Different Number of Servers\")\n",
    "plt.xlabel(\"Number of Servers\")\n",
    "plt.ylabel(\"Waiting Time\")\n",
    "plt.xticks(np.arange(1, 5, 1))\n",
    "plt.show()"
   ]
  },
  {
   "cell_type": "code",
   "execution_count": 36,
   "metadata": {},
   "outputs": [
    {
     "data": {
      "text/plain": [
       "<Figure size 720x504 with 0 Axes>"
      ]
     },
     "metadata": {},
     "output_type": "display_data"
    },
    {
     "data": {
      "image/png": "[encoded data removed]",
      "text/plain": [
       "<Figure size 360x360 with 1 Axes>"
      ]
     },
     "metadata": {},
     "output_type": "display_data"
    }
   ],
   "source": [
    "plt.figure(figsize=(10, 7))\n",
    "sns.relplot(x=df_melted.index, y=\"Average Waiting Time\", \n",
    "             data=df_melted, kind=\"line\", errorbar=\"sd\", color=\"#c94c4c\", linewidth=0.8) #color=\"#034f84\") HOW MANY STANDARD DEVIATIONS -> ONE FROM THE MEAN\n",
    "\n",
    "#plt.title(\"Multi-server Normal Distribution Model: mean and standard deviation of the waiting times for festival goers\")\n",
    "#plt.title(\"Distribution of Waiting Times for Festival Goers generated by the Normal Distribution Model\")\n",
    "plt.xlabel(\"Number of servers\")\n",
    "plt.ylabel(\"Waiting time\")\n",
    "plt.xticks(np.arange(1, 5, 1))\n",
    "plt.show()"
   ]
  }
 ],
 "metadata": {
  "kernelspec": {
   "display_name": "base",
   "language": "python",
   "name": "python3"
  },
  "language_info": {
   "codemirror_mode": {
    "name": "ipython",
    "version": 3
   },
   "file_extension": ".py",
   "mimetype": "text/x-python",
   "name": "python",
   "nbconvert_exporter": "python",
   "pygments_lexer": "ipython3",
   "version": "3.8.3"
  }
 },
 "nbformat": 4,
 "nbformat_minor": 2
}

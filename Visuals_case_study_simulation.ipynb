{
 "cells": [
  {
   "cell_type": "code",
   "execution_count": 2,
   "metadata": {},
   "outputs": [
    {
     "name": "stderr",
     "output_type": "stream",
     "text": [
      "c:\\Users\\beatr\\anaconda3\\lib\\site-packages\\pandas\\core\\computation\\expressions.py:20: UserWarning: Pandas requires version '2.7.3' or newer of 'numexpr' (version '2.7.1' currently installed).\n",
      "  from pandas.core.computation.check import NUMEXPR_INSTALLED\n"
     ]
    }
   ],
   "source": [
    "import seaborn as sns\n",
    "import json\n",
    "import pandas as pd\n",
    "import matplotlib.pyplot as plt\n",
    "import numpy as np\n",
    "\n",
    "sns.set_theme(style=\"darkgrid\")"
   ]
  },
  {
   "cell_type": "code",
   "execution_count": 27,
   "metadata": {},
   "outputs": [
    {
     "name": "stdout",
     "output_type": "stream",
     "text": [
      "Number of rows: 5\n",
      "Number of columns: 100\n"
     ]
    },
    {
     "data": {
      "text/html": [
       "<div>\n",
       "<style scoped>\n",
       "    .dataframe tbody tr th:only-of-type {\n",
       "        vertical-align: middle;\n",
       "    }\n",
       "\n",
       "    .dataframe tbody tr th {\n",
       "        vertical-align: top;\n",
       "    }\n",
       "\n",
       "    .dataframe thead th {\n",
       "        text-align: right;\n",
       "    }\n",
       "</style>\n",
       "<table border=\"1\" class=\"dataframe\">\n",
       "  <thead>\n",
       "    <tr style=\"text-align: right;\">\n",
       "      <th></th>\n",
       "      <th>0</th>\n",
       "      <th>1</th>\n",
       "      <th>2</th>\n",
       "      <th>3</th>\n",
       "      <th>4</th>\n",
       "      <th>5</th>\n",
       "      <th>6</th>\n",
       "      <th>7</th>\n",
       "      <th>8</th>\n",
       "      <th>9</th>\n",
       "      <th>...</th>\n",
       "      <th>90</th>\n",
       "      <th>91</th>\n",
       "      <th>92</th>\n",
       "      <th>93</th>\n",
       "      <th>94</th>\n",
       "      <th>95</th>\n",
       "      <th>96</th>\n",
       "      <th>97</th>\n",
       "      <th>98</th>\n",
       "      <th>99</th>\n",
       "    </tr>\n",
       "  </thead>\n",
       "  <tbody>\n",
       "    <tr>\n",
       "      <th>1</th>\n",
       "      <td>28325.105029</td>\n",
       "      <td>28861.661195</td>\n",
       "      <td>31293.396306</td>\n",
       "      <td>31223.130723</td>\n",
       "      <td>30626.534088</td>\n",
       "      <td>32097.828913</td>\n",
       "      <td>31390.686847</td>\n",
       "      <td>30892.065086</td>\n",
       "      <td>29742.383428</td>\n",
       "      <td>28763.283700</td>\n",
       "      <td>...</td>\n",
       "      <td>30041.156535</td>\n",
       "      <td>28308.042630</td>\n",
       "      <td>31959.007118</td>\n",
       "      <td>30376.205917</td>\n",
       "      <td>28548.323843</td>\n",
       "      <td>30107.711406</td>\n",
       "      <td>30530.102507</td>\n",
       "      <td>29175.788035</td>\n",
       "      <td>30639.529773</td>\n",
       "      <td>28845.274738</td>\n",
       "    </tr>\n",
       "    <tr>\n",
       "      <th>2</th>\n",
       "      <td>6016.848105</td>\n",
       "      <td>5409.893903</td>\n",
       "      <td>5509.159568</td>\n",
       "      <td>5608.469661</td>\n",
       "      <td>5870.900682</td>\n",
       "      <td>5285.560897</td>\n",
       "      <td>5757.448129</td>\n",
       "      <td>5896.093825</td>\n",
       "      <td>5176.999482</td>\n",
       "      <td>4907.156328</td>\n",
       "      <td>...</td>\n",
       "      <td>5368.115337</td>\n",
       "      <td>5422.450101</td>\n",
       "      <td>6224.479463</td>\n",
       "      <td>5801.540224</td>\n",
       "      <td>5583.312460</td>\n",
       "      <td>5411.771419</td>\n",
       "      <td>5403.404685</td>\n",
       "      <td>5637.621833</td>\n",
       "      <td>5158.204601</td>\n",
       "      <td>5698.375607</td>\n",
       "    </tr>\n",
       "    <tr>\n",
       "      <th>3</th>\n",
       "      <td>2873.416717</td>\n",
       "      <td>2632.582733</td>\n",
       "      <td>2931.537173</td>\n",
       "      <td>2851.221458</td>\n",
       "      <td>2887.451474</td>\n",
       "      <td>2874.374285</td>\n",
       "      <td>2887.985163</td>\n",
       "      <td>2837.281068</td>\n",
       "      <td>2907.160499</td>\n",
       "      <td>2711.857548</td>\n",
       "      <td>...</td>\n",
       "      <td>2769.555640</td>\n",
       "      <td>2707.687926</td>\n",
       "      <td>2795.283016</td>\n",
       "      <td>2991.550521</td>\n",
       "      <td>2871.516571</td>\n",
       "      <td>2959.691546</td>\n",
       "      <td>3083.582319</td>\n",
       "      <td>2710.041246</td>\n",
       "      <td>2729.496540</td>\n",
       "      <td>2676.510696</td>\n",
       "    </tr>\n",
       "    <tr>\n",
       "      <th>4</th>\n",
       "      <td>2016.979397</td>\n",
       "      <td>1878.361432</td>\n",
       "      <td>1908.681194</td>\n",
       "      <td>1812.828149</td>\n",
       "      <td>1919.068422</td>\n",
       "      <td>1905.598374</td>\n",
       "      <td>2055.436128</td>\n",
       "      <td>1872.219976</td>\n",
       "      <td>2025.013980</td>\n",
       "      <td>1865.581241</td>\n",
       "      <td>...</td>\n",
       "      <td>2034.695570</td>\n",
       "      <td>1940.398618</td>\n",
       "      <td>1891.281148</td>\n",
       "      <td>2076.534412</td>\n",
       "      <td>1895.379272</td>\n",
       "      <td>1946.282724</td>\n",
       "      <td>1754.613140</td>\n",
       "      <td>1959.117632</td>\n",
       "      <td>2050.825105</td>\n",
       "      <td>1860.799210</td>\n",
       "    </tr>\n",
       "    <tr>\n",
       "      <th>5</th>\n",
       "      <td>1498.062818</td>\n",
       "      <td>1425.880368</td>\n",
       "      <td>1529.688872</td>\n",
       "      <td>1445.252059</td>\n",
       "      <td>1462.670620</td>\n",
       "      <td>1484.208272</td>\n",
       "      <td>1440.210403</td>\n",
       "      <td>1530.074706</td>\n",
       "      <td>1540.703813</td>\n",
       "      <td>1503.371658</td>\n",
       "      <td>...</td>\n",
       "      <td>1448.690266</td>\n",
       "      <td>1540.373588</td>\n",
       "      <td>1371.383735</td>\n",
       "      <td>1522.316354</td>\n",
       "      <td>1421.745188</td>\n",
       "      <td>1567.949019</td>\n",
       "      <td>1491.787863</td>\n",
       "      <td>1391.335790</td>\n",
       "      <td>1435.540426</td>\n",
       "      <td>1371.906903</td>\n",
       "    </tr>\n",
       "  </tbody>\n",
       "</table>\n",
       "<p>5 rows × 100 columns</p>\n",
       "</div>"
      ],
      "text/plain": [
       "             0             1             2             3             4   \\\n",
       "1  28325.105029  28861.661195  31293.396306  31223.130723  30626.534088   \n",
       "2   6016.848105   5409.893903   5509.159568   5608.469661   5870.900682   \n",
       "3   2873.416717   2632.582733   2931.537173   2851.221458   2887.451474   \n",
       "4   2016.979397   1878.361432   1908.681194   1812.828149   1919.068422   \n",
       "5   1498.062818   1425.880368   1529.688872   1445.252059   1462.670620   \n",
       "\n",
       "             5             6             7             8             9   ...  \\\n",
       "1  32097.828913  31390.686847  30892.065086  29742.383428  28763.283700  ...   \n",
       "2   5285.560897   5757.448129   5896.093825   5176.999482   4907.156328  ...   \n",
       "3   2874.374285   2887.985163   2837.281068   2907.160499   2711.857548  ...   \n",
       "4   1905.598374   2055.436128   1872.219976   2025.013980   1865.581241  ...   \n",
       "5   1484.208272   1440.210403   1530.074706   1540.703813   1503.371658  ...   \n",
       "\n",
       "             90            91            92            93            94  \\\n",
       "1  30041.156535  28308.042630  31959.007118  30376.205917  28548.323843   \n",
       "2   5368.115337   5422.450101   6224.479463   5801.540224   5583.312460   \n",
       "3   2769.555640   2707.687926   2795.283016   2991.550521   2871.516571   \n",
       "4   2034.695570   1940.398618   1891.281148   2076.534412   1895.379272   \n",
       "5   1448.690266   1540.373588   1371.383735   1522.316354   1421.745188   \n",
       "\n",
       "             95            96            97            98            99  \n",
       "1  30107.711406  30530.102507  29175.788035  30639.529773  28845.274738  \n",
       "2   5411.771419   5403.404685   5637.621833   5158.204601   5698.375607  \n",
       "3   2959.691546   3083.582319   2710.041246   2729.496540   2676.510696  \n",
       "4   1946.282724   1754.613140   1959.117632   2050.825105   1860.799210  \n",
       "5   1567.949019   1491.787863   1391.335790   1435.540426   1371.906903  \n",
       "\n",
       "[5 rows x 100 columns]"
      ]
     },
     "execution_count": 27,
     "metadata": {},
     "output_type": "execute_result"
    }
   ],
   "source": [
    "simulation_mean_df = pd.read_json('RESULTS_case_study.json')\n",
    "simulation_mean_df = simulation_mean_df.iloc[1:]\n",
    "num_rows, num_cols = simulation_mean_df.shape\n",
    "\n",
    "print(\"Number of rows:\", num_rows)\n",
    "print(\"Number of columns:\", num_cols)\n",
    "\n",
    "simulation_mean_df.head()"
   ]
  },
  {
   "cell_type": "code",
   "execution_count": 21,
   "metadata": {},
   "outputs": [
    {
     "name": "stdout",
     "output_type": "stream",
     "text": [
      "For row: 2 Mean: 5580.324328647588 Max: 6404.9522961485 Min: 4849.3160295262\n",
      "For row: 3 Mean: 2855.091777038594 Max: 3276.1783570671 Min: 2593.3887097576\n",
      "For row: 4 Mean: 1944.5661715728734 Max: 2125.3951996268 Min: 1754.6131399818\n",
      "For row: 5 Mean: 1470.004802144597 Max: 1590.1136657369 Min: 1362.2239243284\n"
     ]
    }
   ],
   "source": [
    "# for row in simulation_mean_df: \n",
    "#     server = simulation_mean_df[row]\n",
    "#     row_mean = server.mean()\n",
    "#     print(\"For row: \", row, \" Mean: \", row_mean)\n",
    "\n",
    "\n",
    "# row_mean = simulation_mean_df.mean(axis=1)\n",
    "# row_max = simulation_mean_df.max(axis=1)\n",
    "# row_min = simulation_mean_df.min(axis=1)\n",
    "\n",
    "\n",
    "# print(\"Row Mean:\", row_mean)\n",
    "# print(\"Row Max:\", row_max)\n",
    "# print(\"Row Min:\", row_min)\n",
    "\n",
    "for index, row in simulation_mean_df.iterrows():\n",
    "    # Calculate the mean of the current row\n",
    "    row_mean = row.mean()\n",
    "    row_max = row.max()\n",
    "    row_min = row.min()\n",
    "    # Print the result\n",
    "    print(\"For row:\", index, \"Mean:\", row_mean, \"Max:\", row_max, \"Min:\", row_min)"
   ]
  },
  {
   "cell_type": "code",
   "execution_count": 28,
   "metadata": {},
   "outputs": [
    {
     "name": "stdout",
     "output_type": "stream",
     "text": [
      "    variable  Average Waiting Time\n",
      "1          0          28325.105029\n",
      "2          0           6016.848105\n",
      "3          0           2873.416717\n",
      "4          0           2016.979397\n",
      "5          0           1498.062818\n",
      "..       ...                   ...\n",
      "1         99          28845.274738\n",
      "2         99           5698.375607\n",
      "3         99           2676.510696\n",
      "4         99           1860.799210\n",
      "5         99           1371.906903\n",
      "\n",
      "[500 rows x 2 columns]\n",
      "Index([1, 2, 3, 4, 5, 1, 2, 3, 4, 5,\n",
      "       ...\n",
      "       1, 2, 3, 4, 5, 1, 2, 3, 4, 5],\n",
      "      dtype='int64', length=500)\n"
     ]
    }
   ],
   "source": [
    "df_melted = pd.melt(simulation_mean_df, value_name=\"Average Waiting Time\", ignore_index=False)\n",
    "# sns.scatterplot(data=df_melted, x=df_melted.index, y=\"Waiting Time\")\n",
    " # this switches the x-axis labels to strat from 1 instead of 0\n",
    "\n",
    "print(df_melted)\n",
    "\n",
    "print(df_melted.index)"
   ]
  },
  {
   "cell_type": "code",
   "execution_count": 6,
   "metadata": {},
   "outputs": [],
   "source": [
    "# df_melted.index = df_melted.index + 1\n",
    "# to switch the start on the axis to 1 instead of zero, only run ONCE"
   ]
  },
  {
   "cell_type": "code",
   "execution_count": 29,
   "metadata": {},
   "outputs": [
    {
     "name": "stdout",
     "output_type": "stream",
     "text": [
      "    variable         mean           max          min\n",
      "0          0  8146.082413  28325.105029  1498.062818\n",
      "1          1  8041.675926  28861.661195  1425.880368\n",
      "2          2  8634.492623  31293.396306  1529.688872\n",
      "3          3  8588.180410  31223.130723  1445.252059\n",
      "4          4  8553.325057  30626.534088  1462.670620\n",
      "..       ...          ...           ...          ...\n",
      "95        95  8398.681223  30107.711406  1567.949019\n",
      "96        96  8452.698103  30530.102507  1491.787863\n",
      "97        97  8174.780907  29175.788035  1391.335790\n",
      "98        98  8402.719289  30639.529773  1435.540426\n",
      "99        99  8090.573431  28845.274738  1371.906903\n",
      "\n",
      "[100 rows x 4 columns]\n"
     ]
    }
   ],
   "source": [
    "stats_per_server = df_melted.groupby('variable')['Average Waiting Time'].agg(['mean', 'max', 'min']).reset_index()\n",
    "\n",
    "print(stats_per_server)"
   ]
  },
  {
   "cell_type": "code",
   "execution_count": 30,
   "metadata": {},
   "outputs": [
    {
     "data": {
      "image/png": "[encoded data removed]",
      "text/plain": [
       "<Figure size 720x432 with 1 Axes>"
      ]
     },
     "metadata": {
      "needs_background": "light"
     },
     "output_type": "display_data"
    }
   ],
   "source": [
    "plt.figure(figsize=(10, 6))\n",
    "ax = sns.boxplot(data=df_melted, x=df_melted.index, y=\"Average Waiting Time\", color=\"#c94c4c\",  flierprops=dict( marker='o', markersize=4, markerfacecolor=\"#eea29a\"))\n",
    "# Annotate boxplot with mean, max, and min values for each server\n",
    "\n",
    "#plt.title(\"Multi-server Normal Distribution Model: distribution of the waiting times for festival goers per number of servers\")\n",
    "#plt.title(\"Distribution of Waiting Times for Festival Goers Generated by the Normal Distribution Model\")\n",
    "plt.xlabel(\"Number of Servers\", fontsize=13)\n",
    "plt.ylabel(\"Waiting Time\", fontsize=13)\n",
    "\n",
    "plt.show()\n",
    "\n",
    "# for row in simulation_mean_df.index:\n",
    "#     print(np.mean(simulation_mean_df.iloc[row]))"
   ]
  },
  {
   "cell_type": "code",
   "execution_count": 32,
   "metadata": {},
   "outputs": [
    {
     "data": {
      "image/png": "[encoded data removed]",
      "text/plain": [
       "<Figure size 720x432 with 1 Axes>"
      ]
     },
     "metadata": {
      "needs_background": "light"
     },
     "output_type": "display_data"
    }
   ],
   "source": [
    "plt.figure(figsize=(10, 6))\n",
    "sns.lineplot(x=df_melted.index, y='Average Waiting Time', data=df_melted, marker='o', errorbar=\"sd\", linewidth=0.3, color=\"#c94c4c\")\n",
    "#plt.title(\"Waiting Time per Server for Different Number of Servers\")\n",
    "plt.xlabel(\"Number of Servers\", fontsize=13)\n",
    "plt.ylabel(\"Waiting Time\", fontsize=13)\n",
    "plt.xticks(np.arange(1, 6, 1))\n",
    "plt.show()"
   ]
  },
  {
   "cell_type": "code",
   "execution_count": 10,
   "metadata": {},
   "outputs": [
    {
     "data": {
      "text/plain": [
       "<Figure size 720x504 with 0 Axes>"
      ]
     },
     "metadata": {},
     "output_type": "display_data"
    },
    {
     "data": {
      "image/png": "[encoded data removed]",
      "text/plain": [
       "<Figure size 360x360 with 1 Axes>"
      ]
     },
     "metadata": {
      "needs_background": "light"
     },
     "output_type": "display_data"
    }
   ],
   "source": [
    "plt.figure(figsize=(10, 7))\n",
    "sns.relplot(x=df_melted.index, y=\"Average Waiting Time\", \n",
    "             data=df_melted, kind=\"line\", errorbar=\"sd\", color=\"#c94c4c\", linewidth=0.8) #color=\"#034f84\") HOW MANY STANDARD DEVIATIONS -> ONE FROM THE MEAN\n",
    "\n",
    "#plt.title(\"Multi-server Normal Distribution Model: mean and standard deviation of the waiting times for festival goers\")\n",
    "#plt.title(\"Distribution of Waiting Times for Festival Goers generated by the Normal Distribution Model\")\n",
    "plt.xlabel(\"Number of servers\")\n",
    "plt.ylabel(\"Waiting time\")\n",
    "plt.xticks(np.arange(1, 5, 1))\n",
    "plt.show()"
   ]
  }
 ],
 "metadata": {
  "kernelspec": {
   "display_name": "base",
   "language": "python",
   "name": "python3"
  },
  "language_info": {
   "codemirror_mode": {
    "name": "ipython",
    "version": 3
   },
   "file_extension": ".py",
   "mimetype": "text/x-python",
   "name": "python",
   "nbconvert_exporter": "python",
   "pygments_lexer": "ipython3",
   "version": "3.8.3"
  }
 },
 "nbformat": 4,
 "nbformat_minor": 2
}
